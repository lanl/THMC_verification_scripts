{
 "cells": [
  {
   "cell_type": "markdown",
   "id": "b9075303",
   "metadata": {},
   "source": [
    "© 2025. Triad National Security, LLC. All rights reserved.\n",
    "This program was produced under U.S. Government contract 89233218CNA000001 for Los Alamos National Laboratory (LANL), which is operated by Triad National Security, LLC for the U.S. Department of Energy/National Nuclear Security Administration. All rights in the program are reserved by Triad National Security, LLC, and the U.S. Department of Energy/National Nuclear Security Administration. The Government is granted for itself and others acting on its behalf a nonexclusive, paid-up, irrevocable worldwide license in this material to reproduce, prepare. derivative works, distribute copies to the public, perform publicly and display publicly, and to permit others to do so.\n"
   ]
  },
  {
   "cell_type": "markdown",
   "id": "a1e3967d-5b5e-4608-9198-77ad178f6570",
   "metadata": {},
   "source": [
    "Analytic solution for Karl Terazaghi. Theoretical soil mechanics. John Wiley and Sons, 1965.\n",
    "\n",
    "A constant compressive load is applied on the left side of a porous sample while zero displacement is specified on the right side. The porous matrix is fully saturated, and drainage is only allowed across the left side where the compressive load is applied. Fluid pressure on the drainage boundary is fixed at the initial pressure. The variables of interest here are the excess pore pressure and vertical strain as a function of time.\n"
   ]
  },
  {
   "cell_type": "code",
   "execution_count": 2,
   "id": "703433d4-9eb8-4017-83f6-a5732ec7529d",
   "metadata": {},
   "outputs": [],
   "source": [
    "import numpy as np\n",
    "import matplotlib.pylab as plt\n",
    "%matplotlib inline\n"
   ]
  },
  {
   "cell_type": "code",
   "execution_count": 3,
   "id": "7fec87c2-e163-424d-adb8-f9bcebe5e147",
   "metadata": {},
   "outputs": [],
   "source": [
    "\n",
    "def excess_pore_pressure(t, x_array, P0, Cv, L, sum_size = 100):\n",
    "    \"\"\" Analytic solution for pressure\n",
    "\n",
    "    Parameters\n",
    "    -------------------\n",
    "        t : float \n",
    "            Time in seconds\n",
    "        x_array : numpy array\n",
    "            x values of the domain\n",
    "        p0 : float\n",
    "            Inlet pressure\n",
    "        Cv : float \n",
    "            coefficient of consolidation \n",
    "        L : float \n",
    "            Domain Length (m)\n",
    "        sum_size : int\n",
    "            truncation length of infinite sum. Default = 100\n",
    "\n",
    "    Returns \n",
    "    -----------------\n",
    "        pressure : numpy array\n",
    "            pressure solution \n",
    "\n",
    "    Notes\n",
    "    -----------------\n",
    "        Infinite sum is approximated using the first sum_size values\n",
    "    \n",
    "    \"\"\"\n",
    "    print(\"Computing pressure \")\n",
    "    pressure = np.zeros_like(x_array)\n",
    "    for ix, x in enumerate(x_array):\n",
    "        pressure[ix] = 0\n",
    "        for n in range(sum_size):\n",
    "            sum_value = 1 / (2 * n + 1) \\\n",
    "                   * np.sin( ((2 * n + 1) * np.pi * x) / (2*L)) \\\n",
    "                   * np.exp(-((2 * n + 1)**2 * np.pi**2 * Cv * t) / (4*L**2))\n",
    "            pressure[ix] += sum_value \n",
    "\n",
    "    pressure = 4 * P0 / np.pi * pressure\n",
    "    print(\"Computing pressure - done\")\n",
    "    return pressure\n",
    "\n",
    "\n",
    "def vertical_strain(pressure, P0, E, v):\n",
    "    \"\"\" Analytic solution for veritcal strain \n",
    "\n",
    "    Parameters\n",
    "    -------------------\n",
    "        pressure : numpy array \n",
    "            Pressure solution obtained from excess_pore_pressure function \n",
    "        P0 : float\n",
    "            Inlet pressure\n",
    "        E : float \n",
    "            Young's Modulus \n",
    "        v : float \n",
    "            Poisson's Ratio\n",
    "\n",
    "    Returns \n",
    "    -----------------\n",
    "        strain : numpy array\n",
    "            vertical strain solution \n",
    "\n",
    "    Notes\n",
    "    -----------------\n",
    "        None \n",
    "\n",
    "    \"\"\"\n",
    "    print(\"\\nComputing Strain\")\n",
    "    strain = np.zeros_like(pressure)\n",
    "    strain = (pressure - P0) * ((1 - 2 * v) * (1 + v)) / (E * (1 - v))\n",
    "    print(\"Computing Strain - done\")\n",
    "    return strain"
   ]
  },
  {
   "cell_type": "code",
   "execution_count": 4,
   "id": "9fe7066d-4e89-4e33-8567-70b4f66ec477",
   "metadata": {},
   "outputs": [
    {
     "name": "stdout",
     "output_type": "stream",
     "text": [
      "\n",
      "Parameters\n",
      "--------------------------------------\n",
      "Inlet pressure\t\t100000000.0 [Pa]\n",
      "Permeability\t\t3e-14 [m^2]\n",
      "\n",
      "Computing pressure \n",
      "Computing pressure - done\n",
      "\n",
      "Computing Strain\n",
      "Computing Strain - done\n"
     ]
    }
   ],
   "source": [
    "\n",
    "\n",
    "P0 = 100.0e6 # Inlet Pressure (Pascals)\n",
    "k = 3e-14 # Matrix Permeability (m^2)\n",
    "E = 6.0e10 # Young's modulus (Pa)\n",
    "v = 0.2  #  Poisson Ratio (dimensionless)\n",
    "K_l = 2.1e9  # Water Bulk Modulus (Pa)\n",
    "phi = 0.1 #porosity\n",
    "mu = 0.001  # Water Viscosity (Pa*s)\n",
    "\n",
    "#K_s = E / (1 - 2 * v**2 / (1 - v))  # Solid Bulk Modulus (Pa)\n",
    "#sm = (1.0 - phi) / K_s + phi / K_l  # constrained specific storage\n",
    "Cv = k / (mu * (phi / K_l)) # coefficient of consolidation \n",
    "#P0 = P0 / (K_s * (sm + 1.0 / K_s)) # max. external loading at the left end of domain\n",
    "\n",
    "# Model Parameters \n",
    "L = 24 #Domain length (m)\n",
    "x_array = np.linspace(1, L, 100)\n",
    "t = 10\n",
    "#t = 10.0 * 3600 # time (s)\n",
    "#dx = 0.1  # spacing of grid points (m)\n",
    "#Nx = np.ceil(L / dx).astype(int)  # number of grid points\n",
    "#x_array = np.linspace(dx, L, Nx)\n",
    "\n",
    "print(\"\\nParameters\")\n",
    "print(\"--------------------------------------\")\n",
    "print(f\"Inlet pressure\\t\\t{P0} [Pa]\")\n",
    "print(f\"Permeability\\t\\t{k} [m^2]\")\n",
    "print(\"\")\n",
    "pressure = excess_pore_pressure(t, x_array, P0, Cv, L) / 10e6\n",
    "epsilon = vertical_strain(pressure, P0, E, v)"
   ]
  },
  {
   "cell_type": "code",
   "execution_count": 5,
   "id": "66821599-9ebf-42e9-84f3-8cbd7b681d16",
   "metadata": {},
   "outputs": [
    {
     "data": {
      "image/png": "[encoded data removed]",
      "text/plain": [
       "<Figure size 640x480 with 2 Axes>"
      ]
     },
     "metadata": {},
     "output_type": "display_data"
    }
   ],
   "source": [
    "fig,ax = plt.subplots(nrows = 2)\n",
    "ax[0].plot(x_array, pressure)\n",
    "ax[0].set_ylabel(\"Pore Pressure [Pa]\")\n",
    "ax[0].grid(True)\n",
    "ax[1].plot(x_array, epsilon)\n",
    "ax[1].set_ylabel(\"Strain\")\n",
    "ax[1].grid(True)\n",
    "plt.xlabel(\"Distance [m]\")\n",
    "plt.show()"
   ]
  },
  {
   "cell_type": "code",
   "execution_count": null,
   "id": "215ae1e5-bb6e-44f9-957a-12d7d3b19a0b",
   "metadata": {},
   "outputs": [],
   "source": []
  },
  {
   "cell_type": "code",
   "execution_count": null,
   "id": "a561bc3e-17fb-48fc-9c3f-2b63480df28b",
   "metadata": {},
   "outputs": [],
   "source": []
  }
 ],
 "metadata": {
  "kernelspec": {
   "display_name": "Python 3 (ipykernel)",
   "language": "python",
   "name": "python3"
  },
  "language_info": {
   "codemirror_mode": {
    "name": "ipython",
    "version": 3
   },
   "file_extension": ".py",
   "mimetype": "text/x-python",
   "name": "python",
   "nbconvert_exporter": "python",
   "pygments_lexer": "ipython3",
   "version": "3.12.4"
  }
 },
 "nbformat": 4,
 "nbformat_minor": 5
}
