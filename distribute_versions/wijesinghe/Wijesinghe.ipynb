{
 "cells": [
  {
   "cell_type": "markdown",
   "id": "367d2c3e-b008-48bc-a2c4-78eed5d32107",
   "metadata": {},
   "source": [
    "\"\"\"\n",
    "Semi-Analytic solution for Anada Wijesinghe (1986) https://doi.org/10.2172/59961\n",
    "\n",
    "a constant load is applied at one end of a fracture and drainage is allowed out of the same end of said fracture.\n",
    "\"\"\"\n"
   ]
  },
  {
   "cell_type": "code",
   "execution_count": 4,
   "id": "af42a7fa-82c4-4c6b-88da-ebc82b3f55be",
   "metadata": {},
   "outputs": [],
   "source": [
    "import numpy as np\n",
    "import matplotlib.pylab as plt\n",
    "import scipy.special as sp\n",
    "%matplotlib inline\n"
   ]
  },
  {
   "cell_type": "code",
   "execution_count": 10,
   "id": "ecd7c77f-01dd-463f-abb6-8b279302f953",
   "metadata": {},
   "outputs": [],
   "source": [
    "\n",
    "def aperture(t, x_array, P0, b_i,k_n,P_i,mu):\n",
    "    \"\"\" Analytic solution for aperture\n",
    "\n",
    "    Parameters\n",
    "    -------------------\n",
    "        t : float \n",
    "            Time in seconds\n",
    "        x_array : numpy array\n",
    "            x values of the domain\n",
    "        P0 : float\n",
    "            Inlet pressure\n",
    "        b_i : float \n",
    "            initial aperture (m) \n",
    "        k_n : float \n",
    "            fracture stiffness\n",
    "        P_i : float\n",
    "            initial pressure (Pa)\n",
    "        mu : int\n",
    "            viscosity (Pa*s)\n",
    "\n",
    "    Returns \n",
    "    -----------------\n",
    "        b : numpy array\n",
    "            fracture aperture at x_array, t \n",
    "\n",
    "    Notes\n",
    "    -----------------\n",
    "        This is an approximate solution for small fracture deformation\n",
    "    \n",
    "    \"\"\"\n",
    "    print(\"Computing aperture Wijesinghe\")\n",
    "    D = b_i**3*k_n/(24*mu)\n",
    "    L = np.sqrt(D*t)\n",
    "    eta = x_array/L\n",
    "    \n",
    "    w_0 = 1-(P_i-P0)/(b_i*k_n)\n",
    "    \n",
    "    w_n = 1-(sp.erfc(eta/np.sqrt(8))/2*(1-w_0))\n",
    "    b = b_i*w_n\n",
    "    print(\"Computing aperture - done\")\n",
    "    return b"
   ]
  },
  {
   "cell_type": "code",
   "execution_count": 15,
   "id": "4370faaf-451b-4a3c-97f5-ff14c430c559",
   "metadata": {},
   "outputs": [
    {
     "name": "stdout",
     "output_type": "stream",
     "text": [
      "Computing aperture Wijesinghe\n",
      "Computing aperture - done\n"
     ]
    }
   ],
   "source": [
    "\n",
    "t = 500\n",
    "L = 25 \n",
    "b_i = 1.0e-5 #initial aperture\n",
    "k_n = 1.0e11 #fracture stiffness\n",
    "P_i = 11.0e6 #initial pressure\n",
    "P0 = 11.9e6 #applied pressure\n",
    "mu = 0.001 #fluid viscosity\n",
    "\n",
    "x_array = np.linspace(0, L, 100)\n",
    "aperture_values = aperture(t, x_array, P0, b_i,k_n,P_i,mu)"
   ]
  },
  {
   "cell_type": "code",
   "execution_count": 16,
   "id": "71fdc08c-6f07-4ce2-9ebc-2f9d44fb0c51",
   "metadata": {},
   "outputs": [
    {
     "data": {
      "image/png": "[encoded data removed]",
      "text/plain": [
       "<Figure size 640x480 with 1 Axes>"
      ]
     },
     "metadata": {},
     "output_type": "display_data"
    }
   ],
   "source": [
    "fig,ax = plt.subplots()\n",
    "ax.plot(x_array, aperture_values)\n",
    "plt.xlabel(\"Distance [m]\")\n",
    "plt.ylabel(\"Fracture Aperture [m]\")\n",
    "plt.grid(True)\n",
    "plt.show()"
   ]
  },
  {
   "cell_type": "code",
   "execution_count": null,
   "id": "c9c3038a-16cf-466f-ace6-0139435bd5b4",
   "metadata": {},
   "outputs": [],
   "source": []
  }
 ],
 "metadata": {
  "kernelspec": {
   "display_name": "Python 3 (ipykernel)",
   "language": "python",
   "name": "python3"
  },
  "language_info": {
   "codemirror_mode": {
    "name": "ipython",
    "version": 3
   },
   "file_extension": ".py",
   "mimetype": "text/x-python",
   "name": "python",
   "nbconvert_exporter": "python",
   "pygments_lexer": "ipython3",
   "version": "3.12.7"
  }
 },
 "nbformat": 4,
 "nbformat_minor": 5
}
