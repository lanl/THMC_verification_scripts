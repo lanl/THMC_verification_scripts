{
 "cells": [
  {
   "cell_type": "markdown",
   "id": "dc0e8a64-2a80-437a-b980-e177252d7e52",
   "metadata": {},
   "source": [
    "\"\"\"\n",
    "Analytic solution for Robert Schiffman. Equations taken from Sun, et al, 2018, Mathematical Problems in Engineering (Article ID 9385615) https://doi.org/10.1155/2018/9385615\n",
    "\n",
    "A linearly increasing compressive load is applied on the left side of a porous sample until a specified time t0, after which the face load is held constant. Zero displacement is specified on the right side. The porous matrix is fully saturated, and drainage is only allowed across the left side where the compressive load is applied. Fluid pressure on the drainage boundary is fixed at the initial pressure. The variables of interest here are the excess pore pressure and vertical strain as a function of time.\n",
    "\"\"\"\n"
   ]
  },
  {
   "cell_type": "code",
   "execution_count": 5,
   "id": "5d0379d0-9ab3-4e63-8fb4-e7355ddd5667",
   "metadata": {},
   "outputs": [],
   "source": [
    "import matplotlib.pylab as plt\n",
    "import numpy as np\n",
    "%matplotlib inline"
   ]
  },
  {
   "cell_type": "code",
   "execution_count": 6,
   "id": "1204ebc8-323c-4f40-a42a-e83141dcb0fc",
   "metadata": {},
   "outputs": [],
   "source": [
    "\n",
    "def excess_pore_pressure(t, x_array, P0, Cv, L, t0, sum_size=100):\n",
    "    \"\"\" Analytic solution for pressure\n",
    "\n",
    "    Parameters\n",
    "    -------------------\n",
    "        t : float \n",
    "            Time in seconds\n",
    "        x_array : numpy array\n",
    "            x values of the domain\n",
    "        P0 : float\n",
    "            Inlet pressure\n",
    "        Cv : float \n",
    "            coefficient of consolidation \n",
    "        L : float \n",
    "            Length (m)\n",
    "        t0 : float\n",
    "            Time in seconds at which the loading reaches max face load value of p0\n",
    "        sum_size : int\n",
    "            truncation length of infinite sum. Default = 100\n",
    "\n",
    "    Returns \n",
    "    -----------------\n",
    "        pressure : numpy array\n",
    "            pressure solution \n",
    "\n",
    "    Notes\n",
    "    -----------------\n",
    "        Infinite sum is approximated using the first sum_size values\n",
    "    \n",
    "    \"\"\"\n",
    "    print(\"Computing pressure (Schiffman)\")\n",
    "    \n",
    "    pressure = np.zeros_like(x_array)\n",
    "    tv0 = Cv * t0 / ((L / 2)**2)\n",
    "    tv = Cv * t / ((L / 2)**2)\n",
    "    \n",
    "    if t <= t0:\n",
    "        for ix, x in enumerate(x_array):\n",
    "            pressure[ix] = 0\n",
    "            for n in range(sum_size):\n",
    "                sum_value = np.sin((2*n+1) * np.pi * x / L) \\\n",
    "                       * (1.0 - np.exp(-(2*n+1)**2 * np.pi**2 * tv / 4.0)) / (2*n+1)**3 \n",
    "                pressure[ix] += sum_value \n",
    "    \n",
    "    else:\n",
    "        for ix, x in enumerate(x_array):\n",
    "            pressure[ix] = 0\n",
    "            for n in range(sum_size):\n",
    "                sum_value = np.sin((2*n+1) * np.pi * x / L) \\\n",
    "                       * np.exp(-(2*n+1)**2 * np.pi**2 * (tv - tv0) / 4.0) \\\n",
    "                       * (1.0 - np.exp(-(2*n+1)**2 * np.pi**2 * tv0 / 4.0)) / (2*n+1)**3 \n",
    "                pressure[ix] += sum_value \n",
    "    \n",
    "    pressure = 16.0 * (P0 / tv0) / np.pi**3 * pressure\n",
    "    print(\"Computing pressure - done\")\n",
    "    return pressure\n",
    "\n",
    "def vertical_strain(pressure, P0, E, v):\n",
    "    \"\"\" Analytic solution for veritcal strain \n",
    "\n",
    "    Parameters\n",
    "    -------------------\n",
    "        pressure : numpy array \n",
    "            Pressure solution obtained from excess_pore_pressure function \n",
    "        P0 : float\n",
    "            Inlet pressure\n",
    "        E : float \n",
    "            Young's Modulus \n",
    "        v : float \n",
    "            Poisson's Ratio\n",
    "\n",
    "    Returns \n",
    "    -----------------\n",
    "        strain : numpy array\n",
    "            vertical strain solution \n",
    "\n",
    "    Notes\n",
    "    -----------------\n",
    "        None \n",
    "\n",
    "    \"\"\"\n",
    "    print(\"\\nComputing Strain\")\n",
    "    strain = np.zeros_like(pressure)\n",
    "    strain = (pressure - P0) * ((1 - 2 * v) * (1 + v)) / (E * (1 - v))\n",
    "    print(\"Computing Strain - done\")\n",
    "    return strain\n"
   ]
  },
  {
   "cell_type": "code",
   "execution_count": 21,
   "id": "ea4b12b9-03c3-44bf-b80a-1c629ac4298a",
   "metadata": {},
   "outputs": [
    {
     "name": "stdout",
     "output_type": "stream",
     "text": [
      "\n",
      "Parameters\n",
      "--------------------------------------\n",
      "Inlet pressure\t\t19705974.35095402 [Pa]\n",
      "Permeability\t\t3e-14 [m^2]\n",
      "\n",
      "Computing pressure (Schiffman)\n",
      "Computing pressure - done\n",
      "\n",
      "Computing Strain\n",
      "Computing Strain - done\n"
     ]
    }
   ],
   "source": [
    "\n",
    "t = 10\n",
    "phi = 0.1  # porosity (dimensionless)\n",
    "k = 3e-14  # permeability (m^2) \n",
    "mu = 0.001  # Water Viscosity (Pa*s)\n",
    "K_l = 2.1e9  # Water Bulk Modulus (Pa)\n",
    "v = 0.2 #Poissons Ratio (dimensionless)\n",
    "E = 6.0e10 #Young's Modulus (Pa)\n",
    "\n",
    "K_s = E / (1 - 2 * v**2 / (1 - v))  # Solid Bulk Modulus (Pa)\n",
    "sm = (1.0 - phi) / K_s + phi / K_l  # constrained specific storage\n",
    "Cv = k / mu / (sm + 1.0 / K_s) # coefficient of consolidation \n",
    "\n",
    "# Model Parameters \n",
    "L = 48 #length of the domain (m)\n",
    "#t = 200 # simulation time (s)\n",
    "t0 = 100.0 #time to reach max inlet pressure (s)\n",
    "dx = 0.1  # spacing of grid points (m)\n",
    "Nx = np.ceil(L / dx).astype(int)  # number of grid points\n",
    "x_array = np.linspace(dx, L/2, Nx)\n",
    "\n",
    "dPdt = 1e6  # slope of the external loading at the left end of domain (Pa/s)\n",
    "P0 = dPdt * t0 / (K_s * (sm + 1.0 / K_s)) # max. external loading at the left end of domain\n",
    "\n",
    "print(\"\\nParameters\")\n",
    "print(\"--------------------------------------\")\n",
    "print(f\"Inlet pressure\\t\\t{P0} [Pa]\")\n",
    "print(f\"Permeability\\t\\t{k} [m^2]\")\n",
    "print(\"\")\n",
    "pressure = excess_pore_pressure(t, x_array, P0, Cv, L, t0)\n",
    "epsilon = vertical_strain(pressure, P0, E, v)\n",
    "\n",
    "   \n",
    "\n"
   ]
  },
  {
   "cell_type": "code",
   "execution_count": 23,
   "id": "591fa161-7a4d-49a1-95e7-aaac7be39260",
   "metadata": {},
   "outputs": [
    {
     "data": {
      "image/png": "[encoded data removed]",
      "text/plain": [
       "<Figure size 640x480 with 2 Axes>"
      ]
     },
     "metadata": {},
     "output_type": "display_data"
    }
   ],
   "source": [
    "fig,ax = plt.subplots(nrows = 2)\n",
    "ax[0].plot(x_array, pressure)\n",
    "ax[0].set_ylabel(\"Pore Pressure [Pa]\")\n",
    "ax[0].grid(True)\n",
    "ax[1].plot(x_array, epsilon)\n",
    "ax[1].set_ylabel(\"Strain\")\n",
    "ax[1].grid(True)\n",
    "plt.xlabel(\"Distance [m]\")\n",
    "plt.show()"
   ]
  },
  {
   "cell_type": "code",
   "execution_count": null,
   "id": "062a2e04-1268-4d45-89da-680c07bbd0ce",
   "metadata": {},
   "outputs": [],
   "source": []
  }
 ],
 "metadata": {
  "kernelspec": {
   "display_name": "Python 3 (ipykernel)",
   "language": "python",
   "name": "python3"
  },
  "language_info": {
   "codemirror_mode": {
    "name": "ipython",
    "version": 3
   },
   "file_extension": ".py",
   "mimetype": "text/x-python",
   "name": "python",
   "nbconvert_exporter": "python",
   "pygments_lexer": "ipython3",
   "version": "3.12.7"
  }
 },
 "nbformat": 4,
 "nbformat_minor": 5
}
